{
 "cells": [
  {
   "cell_type": "code",
   "execution_count": 7,
   "metadata": {},
   "outputs": [],
   "source": [
    "import json\n",
    "import matplotlib.pyplot as plt\n",
    "import numpy as np\n",
    "import seaborn as sns"
   ]
  },
  {
   "cell_type": "code",
   "execution_count": 76,
   "metadata": {},
   "outputs": [],
   "source": [
    "tasks_fn = 'resources/house_target_tuple.json'\n",
    "\n",
    "with open(tasks_fn, 'r') as f:\n",
    "    house_target_tuple = json.load(f)"
   ]
  },
  {
   "cell_type": "code",
   "execution_count": 77,
   "metadata": {},
   "outputs": [],
   "source": [
    "# Enumerate distances inside of task tuple data.\n",
    "task_ds = []\n",
    "for house in house_target_tuple:\n",
    "    for _, _, _, _, end_pano_ds in house_target_tuple[house]:\n",
    "        task_ds.append(min(end_pano_ds))"
   ]
  },
  {
   "cell_type": "code",
   "execution_count": 78,
   "metadata": {},
   "outputs": [],
   "source": [
    "# Enumrate distances inside of matterport R2R data.\n",
    "mp_ds = []\n",
    "for fn in ['../../../tasks/R2R/data/R2R_train.json',\n",
    "           '../../../tasks/R2R/data/R2R_val_seen.json',\n",
    "           '../../../tasks/R2R/data/R2R_val_unseen.json']:\n",
    "    with open(fn, 'r') as f:\n",
    "        mp_data = json.load(f)\n",
    "    for trajectory in mp_data:\n",
    "        mp_ds.append(len(trajectory['path']))"
   ]
  },
  {
   "cell_type": "code",
   "execution_count": 80,
   "metadata": {},
   "outputs": [
    {
     "data": {
      "image/png": "[encoded data removed]",
      "text/plain": [
       "<Figure size 1152x720 with 1 Axes>"
      ]
     },
     "metadata": {},
     "output_type": "display_data"
    },
    {
     "name": "stdout",
     "output_type": "stream",
     "text": [
      "1629\n",
      "18.210558624923266 6.6787541612565535\n",
      "4.853050302410159 31.56806694743637\n",
      "5798\n",
      "6.002414625733011 0.8492805017698207\n",
      "4.30385362219337 7.700975629272652\n"
     ]
    }
   ],
   "source": [
    "# Visualize tuple path distances.\n",
    "bin_size = 1\n",
    "\n",
    "freq_of_task_ds_count_bins = {}\n",
    "for c in task_ds:\n",
    "    cbin = c // bin_size\n",
    "    if cbin not in freq_of_task_ds_count_bins:\n",
    "        freq_of_task_ds_count_bins[cbin] = 0\n",
    "    freq_of_task_ds_count_bins[cbin] += 1\n",
    "for cbin in range(min(freq_of_task_ds_count_bins), max(freq_of_task_ds_count_bins)):\n",
    "    if cbin not in freq_of_task_ds_count_bins:\n",
    "        freq_of_task_ds_count_bins[cbin] = 0\n",
    "\n",
    "freq_of_mp_ds_count_bins = {}\n",
    "for c in mp_ds:\n",
    "    cbin = c // bin_size\n",
    "    if cbin not in freq_of_mp_ds_count_bins:\n",
    "        freq_of_mp_ds_count_bins[cbin] = 0\n",
    "    freq_of_mp_ds_count_bins[cbin] += 1\n",
    "for cbin in range(min(freq_of_mp_ds_count_bins), max(freq_of_mp_ds_count_bins)):\n",
    "    if cbin not in freq_of_task_ds_count_bins:\n",
    "        freq_of_task_ds_count_bins[cbin] = 0\n",
    "for cbin in range(min(freq_of_task_ds_count_bins), max(freq_of_task_ds_count_bins)):\n",
    "    if cbin not in freq_of_mp_ds_count_bins:\n",
    "        freq_of_mp_ds_count_bins[cbin] = 0\n",
    "\n",
    "fig, ax = plt.subplots(figsize=(16, 10))\n",
    "g1 = sns.barplot(ax=ax,\n",
    "                 x=[k * bin_size for k in freq_of_mp_ds_count_bins],\n",
    "                 y=[freq_of_mp_ds_count_bins[k] for k in freq_of_mp_ds_count_bins],\n",
    "                 color=\"blue\")\n",
    "g2 = sns.barplot(ax=ax,\n",
    "                 x=[k * bin_size for k in freq_of_task_ds_count_bins],\n",
    "                 y=[freq_of_task_ds_count_bins[k] for k in freq_of_task_ds_count_bins],\n",
    "                 color=\"salmon\")\n",
    "ax.set(yscale=\"log\")\n",
    "plt.show()\n",
    "\n",
    "mean = np.mean(task_ds)\n",
    "stddev = np.std(task_ds)\n",
    "print(len(task_ds))\n",
    "print(mean, stddev)\n",
    "print(mean-2*stddev, mean+2*stddev)\n",
    "\n",
    "mean = np.mean(mp_ds)\n",
    "stddev = np.std(mp_ds)\n",
    "print(len(mp_ds))\n",
    "print(mean, stddev)\n",
    "print(mean-2*stddev, mean+2*stddev)"
   ]
  },
  {
   "cell_type": "code",
   "execution_count": null,
   "metadata": {},
   "outputs": [],
   "source": []
  }
 ],
 "metadata": {
  "kernelspec": {
   "display_name": "Python 3",
   "language": "python",
   "name": "python3"
  },
  "language_info": {
   "codemirror_mode": {
    "name": "ipython",
    "version": 3
   },
   "file_extension": ".py",
   "mimetype": "text/x-python",
   "name": "python",
   "nbconvert_exporter": "python",
   "pygments_lexer": "ipython3",
   "version": "3.5.2"
  }
 },
 "nbformat": 4,
 "nbformat_minor": 2
}
