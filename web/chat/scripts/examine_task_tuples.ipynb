{
 "cells": [
  {
   "cell_type": "code",
   "execution_count": 209,
   "metadata": {},
   "outputs": [],
   "source": [
    "import json\n",
    "import matplotlib.pyplot as plt\n",
    "import numpy as np\n",
    "import os\n",
    "import pandas as pd\n",
    "import seaborn as sns"
   ]
  },
  {
   "cell_type": "code",
   "execution_count": 210,
   "metadata": {},
   "outputs": [],
   "source": [
    "tasks_fn = 'resources/house_target_tuple.json'\n",
    "games_fn = '../tasks/dialog_navigation/all.json'\n",
    "instruction_following_dir = '../tasks/instruction_following/'\n",
    "folds = [\"train\", \"val_seen\", \"val_unseen\", \"test\"]\n",
    "\n",
    "with open(tasks_fn, 'r') as f:\n",
    "    house_target_tuple = json.load(f)"
   ]
  },
  {
   "cell_type": "code",
   "execution_count": 211,
   "metadata": {},
   "outputs": [],
   "source": [
    "# Enumerate distances inside of task tuple data.\n",
    "task_ds = []\n",
    "for house in house_target_tuple:\n",
    "    for _, _, _, _, end_pano_ds in house_target_tuple[house]:\n",
    "        task_ds.append(min(end_pano_ds))"
   ]
  },
  {
   "cell_type": "code",
   "execution_count": 212,
   "metadata": {},
   "outputs": [],
   "source": [
    "# Enumrate distances inside of matterport R2R data.\n",
    "mp_ds = []\n",
    "for fn in ['../../../tasks/R2R/data/R2R_train.json',\n",
    "           '../../../tasks/R2R/data/R2R_val_seen.json',\n",
    "           '../../../tasks/R2R/data/R2R_val_unseen.json']:\n",
    "    with open(fn, 'r') as f:\n",
    "        mp_data = json.load(f)\n",
    "    for trajectory in mp_data:\n",
    "        mp_ds.append(len(trajectory['path']))"
   ]
  },
  {
   "cell_type": "code",
   "execution_count": 213,
   "metadata": {},
   "outputs": [
    {
     "data": {
      "image/png": "[encoded data removed]",
      "text/plain": [
       "<Figure size 1152x720 with 1 Axes>"
      ]
     },
     "metadata": {},
     "output_type": "display_data"
    },
    {
     "name": "stdout",
     "output_type": "stream",
     "text": [
      "MPD average hops:\t18.21+/-6.68, (n=1629)\n",
      "MP R2R average hops:\t6.00+/-0.85, (n=5798)\n"
     ]
    }
   ],
   "source": [
    "# Visualize tuple path distances.\n",
    "bin_size = 1\n",
    "\n",
    "freq_of_task_ds_count_bins = {}\n",
    "for c in task_ds:\n",
    "    cbin = c // bin_size\n",
    "    if cbin not in freq_of_task_ds_count_bins:\n",
    "        freq_of_task_ds_count_bins[cbin] = 0\n",
    "    freq_of_task_ds_count_bins[cbin] += 1\n",
    "\n",
    "freq_of_mp_ds_count_bins = {}\n",
    "for c in mp_ds:\n",
    "    cbin = c // bin_size\n",
    "    if cbin not in freq_of_mp_ds_count_bins:\n",
    "        freq_of_mp_ds_count_bins[cbin] = 0\n",
    "    freq_of_mp_ds_count_bins[cbin] += 1\n",
    "\n",
    "for cbin in range(min(min(freq_of_mp_ds_count_bins), min(freq_of_task_ds_count_bins)),\n",
    "                  max(max(freq_of_mp_ds_count_bins), max(freq_of_task_ds_count_bins)) + 1):\n",
    "    if cbin not in freq_of_mp_ds_count_bins:\n",
    "        freq_of_mp_ds_count_bins[cbin] = 0\n",
    "    if cbin not in freq_of_task_ds_count_bins:\n",
    "        freq_of_task_ds_count_bins[cbin] = 0\n",
    "\n",
    "fig, ax = plt.subplots(figsize=(16, 10))\n",
    "g1 = sns.barplot(ax=ax,\n",
    "                 x=[k * bin_size for k in freq_of_mp_ds_count_bins],\n",
    "                 y=[freq_of_mp_ds_count_bins[k] for k in freq_of_mp_ds_count_bins],\n",
    "                 color=\"blue\")\n",
    "g2 = sns.barplot(ax=ax,\n",
    "                 x=[k * bin_size for k in freq_of_task_ds_count_bins],\n",
    "                 y=[freq_of_task_ds_count_bins[k] for k in freq_of_task_ds_count_bins],\n",
    "                 color=\"salmon\")\n",
    "ax.set(yscale=\"log\")\n",
    "plt.show()\n",
    "\n",
    "print(\"MPD average hops:\\t%.2f+/-%.2f, (n=%d)\" % (np.mean(task_ds), np.std(task_ds), len(task_ds)))\n",
    "print(\"MP R2R average hops:\\t%.2f+/-%.2f, (n=%d)\" % (np.mean(mp_ds), np.std(mp_ds), len(mp_ds)))"
   ]
  },
  {
   "cell_type": "code",
   "execution_count": 214,
   "metadata": {},
   "outputs": [],
   "source": [
    "# Load games data.\n",
    "with open(games_fn, 'r') as f:\n",
    "    games = pd.read_json(json.load(f))"
   ]
  },
  {
   "cell_type": "code",
   "execution_count": 215,
   "metadata": {},
   "outputs": [
    {
     "data": {
      "image/png": "[encoded data removed]",
      "text/plain": [
       "<Figure size 1152x720 with 1 Axes>"
      ]
     },
     "metadata": {},
     "output_type": "display_data"
    },
    {
     "name": "stdout",
     "output_type": "stream",
     "text": [
      "MP R2R average hops:\t6.00+/-0.85, (n=5798)\n",
      "MPD Player average hops:\t26.94+/-12.18, (n=36)\n",
      "MPD Planner average hops:\t16.72+/-7.44, (n=36)\n"
     ]
    }
   ],
   "source": [
    "# Examine distribution of dialog navigation lengths versus MatterPort.\n",
    "bin_size = 8\n",
    "\n",
    "ins_ds = [len(games['planner_nav_steps'][idx]) for idx in games.index]\n",
    "freq_of_ins_ds_count_bins = {}\n",
    "for c in ins_ds:\n",
    "    cbin = c // bin_size\n",
    "    if cbin not in freq_of_ins_ds_count_bins:\n",
    "        freq_of_ins_ds_count_bins[cbin] = 0\n",
    "    freq_of_ins_ds_count_bins[cbin] += 1\n",
    "    \n",
    "player_ds = [len(games['nav_steps'][idx]) for idx in games.index]\n",
    "freq_of_player_ds_count_bins = {}\n",
    "for c in player_ds:\n",
    "    cbin = c // bin_size\n",
    "    if cbin not in freq_of_player_ds_count_bins:\n",
    "        freq_of_player_ds_count_bins[cbin] = 0\n",
    "    freq_of_player_ds_count_bins[cbin] += 1\n",
    "\n",
    "freq_of_mp_ds_count_bins = {}\n",
    "for c in mp_ds:\n",
    "    cbin = c // bin_size\n",
    "    if cbin not in freq_of_mp_ds_count_bins:\n",
    "        freq_of_mp_ds_count_bins[cbin] = 0\n",
    "    freq_of_mp_ds_count_bins[cbin] += 1\n",
    "\n",
    "for cbin in range(min(min(freq_of_mp_ds_count_bins), min(freq_of_ins_ds_count_bins), min(freq_of_player_ds_count_bins)),\n",
    "                  max(max(freq_of_mp_ds_count_bins), max(freq_of_ins_ds_count_bins), max(freq_of_player_ds_count_bins)) + 1):\n",
    "    if cbin not in freq_of_mp_ds_count_bins:\n",
    "        freq_of_mp_ds_count_bins[cbin] = 0\n",
    "    if cbin not in freq_of_ins_ds_count_bins:\n",
    "        freq_of_ins_ds_count_bins[cbin] = 0\n",
    "\n",
    "d = [{'length': \"%d-%d\" % (k * bin_size, (k+1) * bin_size - 1) if bin_size > 1 else k * bin_size,\n",
    "      'trajectory': 'MP-R2R',\n",
    "      'frequency': freq_of_mp_ds_count_bins[k]} for k in freq_of_mp_ds_count_bins]\n",
    "d.extend([{'length': \"%d-%d\" % (k * bin_size, (k+1) * bin_size - 1) if bin_size > 1 else k * bin_size,\n",
    "           'trajectory': 'MPD-Planner',\n",
    "           'frequency': freq_of_ins_ds_count_bins[k]} for k in freq_of_ins_ds_count_bins])\n",
    "d.extend([{'length': \"%d-%d\" % (k * bin_size, (k+1) * bin_size - 1) if bin_size > 1 else k * bin_size,\n",
    "           'trajectory': 'MPD-Player',\n",
    "           'frequency': freq_of_player_ds_count_bins[k]} for k in freq_of_player_ds_count_bins])\n",
    "fig, ax = plt.subplots(figsize=(16, 10))\n",
    "df = pd.DataFrame(d)\n",
    "g = sns.barplot(ax=ax, x='length', y='frequency', hue=\"trajectory\", data=df)\n",
    "ax.set(yscale=\"log\")\n",
    "if bin_size > 1:\n",
    "    g.set_xticklabels(g.get_xticklabels(), rotation=30)\n",
    "plt.show()\n",
    "\n",
    "print(\"MP R2R average hops:\\t%.2f+/-%.2f, (n=%d)\" % (np.mean(mp_ds), np.std(mp_ds), len(mp_ds)))\n",
    "print(\"MPD Player average hops:\\t%.2f+/-%.2f, (n=%d)\" % (np.mean(player_ds), np.std(player_ds), len(player_ds)))\n",
    "print(\"MPD Planner average hops:\\t%.2f+/-%.2f, (n=%d)\" % (np.mean(ins_ds), np.std(ins_ds), len(ins_ds)))"
   ]
  },
  {
   "cell_type": "code",
   "execution_count": 216,
   "metadata": {},
   "outputs": [
    {
     "name": "stdout",
     "output_type": "stream",
     "text": [
      "fold, instances, scans\n",
      "train, 87, 10\n",
      "val_seen, 5, 2\n",
      "val_unseen, 18, 3\n",
      "test, 14, 3\n"
     ]
    }
   ],
   "source": [
    "# Load instruction following data.\n",
    "ins_follow = []\n",
    "print(\"fold, instances, scans\")\n",
    "for fold in folds:\n",
    "    with open(os.path.join(instruction_following_dir, \"%s.json\" % fold), 'r') as f:\n",
    "        fold_trajs = json.load(f)\n",
    "        fold_scans = set([traj['scan'] for traj in fold_trajs])\n",
    "        ins_follow.extend(fold_trajs)\n",
    "        print(\"%s, %d, %d\" % (fold, len(fold_trajs), len(fold_scans)))"
   ]
  },
  {
   "cell_type": "code",
   "execution_count": 217,
   "metadata": {},
   "outputs": [
    {
     "data": {
      "image/png": "[encoded data removed]",
      "text/plain": [
       "<Figure size 1152x720 with 1 Axes>"
      ]
     },
     "metadata": {},
     "output_type": "display_data"
    },
    {
     "name": "stdout",
     "output_type": "stream",
     "text": [
      "MP R2R average hops:\t6.00+/-0.85, (n=5798)\n",
      "MPD IF Player average hops:\t7.92+/-4.78, (n=124)\n",
      "MPD IF Planner average hops:\t4.34+/-1.16, (n=124)\n"
     ]
    }
   ],
   "source": [
    "# Examine distribution of instruction following lengths versus MatterPort.\n",
    "bin_size = 1\n",
    "\n",
    "ins_ds = [len(task['planner_path']) for task in ins_follow]\n",
    "freq_of_ins_ds_count_bins = {}\n",
    "for c in ins_ds:\n",
    "    cbin = c // bin_size\n",
    "    if cbin not in freq_of_ins_ds_count_bins:\n",
    "        freq_of_ins_ds_count_bins[cbin] = 0\n",
    "    freq_of_ins_ds_count_bins[cbin] += 1\n",
    "    \n",
    "player_ds = [len(task['player_path']) for task in ins_follow]\n",
    "freq_of_player_ds_count_bins = {}\n",
    "for c in player_ds:\n",
    "    cbin = c // bin_size\n",
    "    if cbin not in freq_of_player_ds_count_bins:\n",
    "        freq_of_player_ds_count_bins[cbin] = 0\n",
    "    freq_of_player_ds_count_bins[cbin] += 1\n",
    "\n",
    "freq_of_mp_ds_count_bins = {}\n",
    "for c in mp_ds:\n",
    "    cbin = c // bin_size\n",
    "    if cbin not in freq_of_mp_ds_count_bins:\n",
    "        freq_of_mp_ds_count_bins[cbin] = 0\n",
    "    freq_of_mp_ds_count_bins[cbin] += 1\n",
    "\n",
    "for cbin in range(min(min(freq_of_mp_ds_count_bins), min(freq_of_ins_ds_count_bins), min(freq_of_player_ds_count_bins)),\n",
    "                  max(max(freq_of_mp_ds_count_bins), max(freq_of_ins_ds_count_bins), max(freq_of_player_ds_count_bins)) + 1):\n",
    "    if cbin not in freq_of_mp_ds_count_bins:\n",
    "        freq_of_mp_ds_count_bins[cbin] = 0\n",
    "    if cbin not in freq_of_ins_ds_count_bins:\n",
    "        freq_of_ins_ds_count_bins[cbin] = 0\n",
    "\n",
    "d = [{'length': k * bin_size,\n",
    "      'trajectory': 'MP-R2R',\n",
    "      'frequency': freq_of_mp_ds_count_bins[k]} for k in freq_of_mp_ds_count_bins]\n",
    "d.extend([{'length': k * bin_size,\n",
    "           'trajectory': 'MPD-Planner',\n",
    "           'frequency': freq_of_ins_ds_count_bins[k]} for k in freq_of_ins_ds_count_bins])\n",
    "d.extend([{'length': k * bin_size,\n",
    "           'trajectory': 'MPD-Player',\n",
    "           'frequency': freq_of_player_ds_count_bins[k]} for k in freq_of_player_ds_count_bins])\n",
    "fig, ax = plt.subplots(figsize=(16, 10))\n",
    "df = pd.DataFrame(d)\n",
    "g = sns.barplot(ax=ax, x='length', y='frequency', hue=\"trajectory\", data=df)\n",
    "ax.set(yscale=\"log\")\n",
    "plt.show()\n",
    "\n",
    "print(\"MP R2R average hops:\\t%.2f+/-%.2f, (n=%d)\" % (np.mean(mp_ds), np.std(mp_ds), len(mp_ds)))\n",
    "print(\"MPD IF Player average hops:\\t%.2f+/-%.2f, (n=%d)\" % (np.mean(player_ds), np.std(player_ds), len(player_ds)))\n",
    "print(\"MPD IF Planner average hops:\\t%.2f+/-%.2f, (n=%d)\" % (np.mean(ins_ds), np.std(ins_ds), len(ins_ds)))"
   ]
  },
  {
   "cell_type": "code",
   "execution_count": 218,
   "metadata": {},
   "outputs": [
    {
     "name": "stdout",
     "output_type": "stream",
     "text": [
      "0.3064516129032258 0.7741935483870968 0.06034306195596519 0.4568736371155727\n",
      "0.03632254222222222 0.08492222270555555\n"
     ]
    }
   ],
   "source": [
    "# Examine human performance on the instruction following and dialog tasks based on official R2R metrics.\n",
    "for task in ins_follow:\n",
    "    ins_sr += stop_success(task['scan'], task['player_path'], task['planner_path'], within_meters=3)\n",
    "    ins_osr += oracle_success(task['scan'], task['player_path'], task['planner_path'], within_meters=3)\n",
    "    ins_spl += spl(task['scan'], task['player_path'], task['planner_path'], within_meters=3)\n",
    "ins_sr = sum([ins_follow[idx]['R2R_success'] for idx in range(len(ins_follow))]) / len(ins_follow)\n",
    "ins_osr = sum([ins_follow[idx]['R2R_oracle_success'] for idx in range(len(ins_follow))]) / len(ins_follow)\n",
    "ins_spl = sum([ins_follow[idx]['R2R_spl'] for idx in range(len(ins_follow))]) / len(ins_follow)\n",
    "ins_ospl = sum([ins_follow[idx]['R2R_oracle_spl'] for idx in range(len(ins_follow))]) / len(ins_follow)\n",
    "print(ins_sr, ins_osr, ins_spl, ins_ospl)\n",
    "\n",
    "dia_spl = sum(games['R2R_spl']) / len(games)\n",
    "dia_ospl = sum(games['R2R_oracle_spl']) / len(games)\n",
    "print(dia_spl, dia_ospl)"
   ]
  },
  {
   "cell_type": "code",
   "execution_count": null,
   "metadata": {},
   "outputs": [],
   "source": []
  },
  {
   "cell_type": "code",
   "execution_count": null,
   "metadata": {},
   "outputs": [],
   "source": []
  },
  {
   "cell_type": "code",
   "execution_count": null,
   "metadata": {},
   "outputs": [],
   "source": []
  }
 ],
 "metadata": {
  "kernelspec": {
   "display_name": "Python 3",
   "language": "python",
   "name": "python3"
  },
  "language_info": {
   "codemirror_mode": {
    "name": "ipython",
    "version": 3
   },
   "file_extension": ".py",
   "mimetype": "text/x-python",
   "name": "python",
   "nbconvert_exporter": "python",
   "pygments_lexer": "ipython3",
   "version": "3.5.2"
  }
 },
 "nbformat": 4,
 "nbformat_minor": 2
}
